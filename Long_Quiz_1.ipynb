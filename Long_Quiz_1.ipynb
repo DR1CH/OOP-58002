{
  "nbformat": 4,
  "nbformat_minor": 0,
  "metadata": {
    "colab": {
      "name": "Long Quiz 1",
      "provenance": [],
      "authorship_tag": "ABX9TyPnsTlq/jS1I4VhlUZo6/II",
      "include_colab_link": true
    },
    "kernelspec": {
      "name": "python3",
      "display_name": "Python 3"
    },
    "language_info": {
      "name": "python"
    }
  },
  "cells": [
    {
      "cell_type": "markdown",
      "metadata": {
        "id": "view-in-github",
        "colab_type": "text"
      },
      "source": [
        "<a href=\"https://colab.research.google.com/github/DR1CH/OOP-58002/blob/main/Long_Quiz_1.ipynb\" target=\"_parent\"><img src=\"https://colab.research.google.com/assets/colab-badge.svg\" alt=\"Open In Colab\"/></a>"
      ]
    },
    {
      "cell_type": "markdown",
      "source": [
        "\n",
        "Long Quiz 1 Mercado"
      ],
      "metadata": {
        "id": "5JzS1fVYeVFY"
      }
    },
    {
      "cell_type": "markdown",
      "source": [
        "* Write a Python program that asks the user to enter Celsius and convert it to Fahrenheit.\n",
        "\n"
      ],
      "metadata": {
        "id": "aT4vOwQFeZVs"
      }
    },
    {
      "cell_type": "markdown",
      "source": [
        "\n",
        "\n",
        "* Create a class name Temperature and Celsius as attributes\n",
        "\n"
      ],
      "metadata": {
        "id": "QVZTvPc9ek0I"
      }
    },
    {
      "cell_type": "markdown",
      "source": [
        "\n",
        "\n",
        "* Create a method Display() the Fahrenheit using an instantiation of a class.\n",
        "\n"
      ],
      "metadata": {
        "id": "kKSc0XrXeoGG"
      }
    },
    {
      "cell_type": "markdown",
      "source": [
        "\n",
        "\n",
        "* Create a Fahrenheit() method to convert Celsius to Fahrenheit.\n",
        " \n",
        "\n"
      ],
      "metadata": {
        "id": "k-Orlv-GewYN"
      }
    },
    {
      "cell_type": "markdown",
      "source": [
        "Long Quiz 1 Mercado"
      ],
      "metadata": {
        "id": "u0gVnZN-e12V"
      }
    },
    {
      "cell_type": "code",
      "source": [
        "class Temperature():\n",
        "  def __init__(self,Celsius):\n",
        "    self.Celsius = Celsius\n",
        "   \n",
        "  def Fahrenheit(self):\n",
        "    result = (self.Celsius * 1.8) + 32\n",
        "    return result\n",
        "    \n",
        "input_Temperature = float(input(\"Insert a Temperature in Celsius: \"))\n",
        "temp = Temperature(input_Temperature)\n",
        "\n",
        "print(\"The answer is\",temp.Fahrenheit())"
      ],
      "metadata": {
        "colab": {
          "base_uri": "https://localhost:8080/"
        },
        "id": "rGLZD9Y8e39e",
        "outputId": "8e6eabdd-98b0-4b79-e677-85a9aa481140"
      },
      "execution_count": 1,
      "outputs": [
        {
          "output_type": "stream",
          "name": "stdout",
          "text": [
            "Insert a Temperature in Celsius: 18\n",
            "The answer is 64.4\n"
          ]
        }
      ]
    }
  ]
}