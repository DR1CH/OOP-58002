{
  "nbformat": 4,
  "nbformat_minor": 0,
  "metadata": {
    "colab": {
      "name": "Fundamentals of python",
      "provenance": [],
      "authorship_tag": "ABX9TyNVNeCQLI2eJw0xQ1/tL26b",
      "include_colab_link": true
    },
    "kernelspec": {
      "name": "python3",
      "display_name": "Python 3"
    },
    "language_info": {
      "name": "python"
    }
  },
  "cells": [
    {
      "cell_type": "markdown",
      "metadata": {
        "id": "view-in-github",
        "colab_type": "text"
      },
      "source": [
        "<a href=\"https://colab.research.google.com/github/DR1CH/OOP-58002/blob/main/Fundamentals_of_python.ipynb\" target=\"_parent\"><img src=\"https://colab.research.google.com/assets/colab-badge.svg\" alt=\"Open In Colab\"/></a>"
      ]
    },
    {
      "cell_type": "markdown",
      "source": [
        "Python Variables"
      ],
      "metadata": {
        "id": "DTi-4fVY7oaC"
      }
    },
    {
      "cell_type": "code",
      "source": [
        "x = x = float(1) \n",
        "a, b = 0, -1\n",
        "a, b, c = \"Sally\", \"John\", \"Anna\"\n",
        "\n",
        "print('This a sample')\n",
        "print(a)\n",
        "print(c)\n"
      ],
      "metadata": {
        "colab": {
          "base_uri": "https://localhost:8080/"
        },
        "id": "DRkOxe427tvx",
        "outputId": "13cb3a16-99ea-45f2-b4ab-a1e67350e4cd"
      },
      "execution_count": 3,
      "outputs": [
        {
          "output_type": "stream",
          "name": "stdout",
          "text": [
            "This a sample\n",
            "Sally\n",
            "Anna\n"
          ]
        }
      ]
    },
    {
      "cell_type": "markdown",
      "source": [
        "Casting"
      ],
      "metadata": {
        "id": "HOA6oggA-XwC"
      }
    },
    {
      "cell_type": "code",
      "source": [
        "print(x)"
      ],
      "metadata": {
        "colab": {
          "base_uri": "https://localhost:8080/"
        },
        "id": "LIKOh-tJ8HSG",
        "outputId": "5a75e4b2-e2a2-4f03-bd29-13916dc9f8fb"
      },
      "execution_count": 4,
      "outputs": [
        {
          "output_type": "stream",
          "name": "stdout",
          "text": [
            "1.0\n"
          ]
        }
      ]
    },
    {
      "cell_type": "markdown",
      "source": [
        "Type() Function"
      ],
      "metadata": {
        "id": "O2ifRPfV-MSC"
      }
    },
    {
      "cell_type": "code",
      "source": [
        "y = \"Johnny\"\n",
        "\n",
        "print(type(y))\n",
        "print(type(x))"
      ],
      "metadata": {
        "colab": {
          "base_uri": "https://localhost:8080/"
        },
        "id": "cIXYGCjl8hdU",
        "outputId": "8a9ebdea-3cba-4edf-e2d7-9e9de1311427"
      },
      "execution_count": 5,
      "outputs": [
        {
          "output_type": "stream",
          "name": "stdout",
          "text": [
            "<class 'str'>\n",
            "<class 'float'>\n"
          ]
        }
      ]
    },
    {
      "cell_type": "markdown",
      "source": [
        "Double quotes and Single quotes"
      ],
      "metadata": {
        "id": "pnW5MOJW-g0o"
      }
    },
    {
      "cell_type": "code",
      "source": [
        "h= \"Maria\"\n",
        "v= 1\n",
        "V= 2\n",
        "\n",
        "print(h)\n",
        "print(v)\n",
        "print(v+1)"
      ],
      "metadata": {
        "colab": {
          "base_uri": "https://localhost:8080/"
        },
        "id": "5-He_iIV8ndX",
        "outputId": "8bc1b20a-3f98-4161-d571-53b207d0b712"
      },
      "execution_count": 6,
      "outputs": [
        {
          "output_type": "stream",
          "name": "stdout",
          "text": [
            "Maria\n",
            "1\n",
            "2\n"
          ]
        }
      ]
    },
    {
      "cell_type": "markdown",
      "source": [
        "Multiple Variables"
      ],
      "metadata": {
        "id": "wzZ1TtaJ8qKs"
      }
    },
    {
      "cell_type": "code",
      "source": [
        "x,y,z=\"one\", \"two\", \"Three\"\n",
        "print(x)\n",
        "print(y)\n",
        "print(z)\n",
        "print(x,y,z)"
      ],
      "metadata": {
        "colab": {
          "base_uri": "https://localhost:8080/"
        },
        "id": "ufq94HBt8tUV",
        "outputId": "9f839559-0864-448a-bd80-b5ced4c60140"
      },
      "execution_count": 7,
      "outputs": [
        {
          "output_type": "stream",
          "name": "stdout",
          "text": [
            "one\n",
            "two\n",
            "Three\n",
            "one two Three\n"
          ]
        }
      ]
    },
    {
      "cell_type": "markdown",
      "source": [
        "One Value to Multiple Variables"
      ],
      "metadata": {
        "id": "Lt7q8HDg8vob"
      }
    },
    {
      "cell_type": "code",
      "source": [
        "x = y = z =\"Stella\"\n",
        "print(x,y,z)"
      ],
      "metadata": {
        "colab": {
          "base_uri": "https://localhost:8080/"
        },
        "id": "PsruEROa84vF",
        "outputId": "1b196fe5-1baa-4131-c4b3-3915ed3bdfda"
      },
      "execution_count": 8,
      "outputs": [
        {
          "output_type": "stream",
          "name": "stdout",
          "text": [
            "Stella Stella Stella\n"
          ]
        }
      ]
    },
    {
      "cell_type": "markdown",
      "source": [
        "Output Variables"
      ],
      "metadata": {
        "id": "cQCNB20A87l2"
      }
    },
    {
      "cell_type": "code",
      "source": [
        "x= \"enjoying\"\n",
        "\n",
        "print(\"Python is \" + x)\n",
        "\n",
        "x = \"Hi\"\n",
        "y = \"Crush\"\n",
        "\n",
        "print(x+\"\"+\" \"+y)"
      ],
      "metadata": {
        "colab": {
          "base_uri": "https://localhost:8080/"
        },
        "id": "JtHQUXtT8-zJ",
        "outputId": "c07969fe-92aa-4927-c3ad-867e98ab6dbf"
      },
      "execution_count": 10,
      "outputs": [
        {
          "output_type": "stream",
          "name": "stdout",
          "text": [
            "Python is enjoying\n",
            "Hi Crush\n"
          ]
        }
      ]
    },
    {
      "cell_type": "markdown",
      "source": [
        "Arithmetic Operations"
      ],
      "metadata": {
        "id": "8HApAGWy9Bqd"
      }
    },
    {
      "cell_type": "code",
      "source": [
        "f = 1\n",
        "g = 2\n",
        "i = 6\n",
        "\n",
        "print(f+g)\n",
        "print(f-g)\n",
        "print(f*i)\n",
        "print(int(i/g))\n",
        "print(3/g)\n",
        "print(3%g)\n",
        "print(3//g)\n",
        "print(3**6)"
      ],
      "metadata": {
        "colab": {
          "base_uri": "https://localhost:8080/"
        },
        "id": "3DJyF1Oz9Dzp",
        "outputId": "f49e9421-a9a5-4859-c2c4-1bbfa68acee7"
      },
      "execution_count": 11,
      "outputs": [
        {
          "output_type": "stream",
          "name": "stdout",
          "text": [
            "3\n",
            "-1\n",
            "6\n",
            "3\n",
            "1.5\n",
            "1\n",
            "1\n",
            "729\n"
          ]
        }
      ]
    },
    {
      "cell_type": "markdown",
      "source": [
        "Assignment Operators"
      ],
      "metadata": {
        "id": "xLVKrsNe9HU5"
      }
    },
    {
      "cell_type": "code",
      "source": [
        "k = 2\n",
        "l=3\n",
        "k+=3 #same as k=k+3\n",
        "\n",
        "print(k)\n",
        "\n",
        "print(l>>1)"
      ],
      "metadata": {
        "colab": {
          "base_uri": "https://localhost:8080/"
        },
        "id": "7yv-Qu559MKG",
        "outputId": "69590959-03c1-4c13-a362-778da448f3ed"
      },
      "execution_count": 12,
      "outputs": [
        {
          "output_type": "stream",
          "name": "stdout",
          "text": [
            "5\n",
            "1\n"
          ]
        }
      ]
    },
    {
      "cell_type": "markdown",
      "source": [
        "Boolean Operators"
      ],
      "metadata": {
        "id": "8xfISFl6_ary"
      }
    },
    {
      "cell_type": "code",
      "source": [
        "k=2\n",
        "l=3\n",
        "print(k>>2)#shift right twice \n",
        "print(k<<2)#shift left twice"
      ],
      "metadata": {
        "colab": {
          "base_uri": "https://localhost:8080/"
        },
        "id": "UjlKpkDw_ktN",
        "outputId": "8ce4e81f-7566-4ada-f28e-58d33c65d28d"
      },
      "execution_count": 13,
      "outputs": [
        {
          "output_type": "stream",
          "name": "stdout",
          "text": [
            "0\n",
            "8\n"
          ]
        }
      ]
    },
    {
      "cell_type": "markdown",
      "source": [
        "Relational Operators"
      ],
      "metadata": {
        "id": "YM0Pik7p_pnc"
      }
    },
    {
      "cell_type": "code",
      "source": [
        "print(v>k) #v=1, k=2\n",
        "\n",
        "print(v==k)"
      ],
      "metadata": {
        "colab": {
          "base_uri": "https://localhost:8080/"
        },
        "id": "VS0jkh5-_tId",
        "outputId": "355fd653-9152-49c6-dacc-9c6d49806283"
      },
      "execution_count": 14,
      "outputs": [
        {
          "output_type": "stream",
          "name": "stdout",
          "text": [
            "False\n",
            "False\n"
          ]
        }
      ]
    },
    {
      "cell_type": "markdown",
      "source": [
        "Logical Operators"
      ],
      "metadata": {
        "id": "yfDspeeD_vfO"
      }
    },
    {
      "cell_type": "code",
      "source": [
        "print(v<k and k==k)\n",
        "print(v<k or k==v)\n",
        "print(not (v<k or k==v))"
      ],
      "metadata": {
        "colab": {
          "base_uri": "https://localhost:8080/"
        },
        "id": "XrhL55Y3_0zF",
        "outputId": "9147eb20-fd91-4262-fec1-92c2bec1f46c"
      },
      "execution_count": 15,
      "outputs": [
        {
          "output_type": "stream",
          "name": "stdout",
          "text": [
            "True\n",
            "True\n",
            "False\n"
          ]
        }
      ]
    },
    {
      "cell_type": "markdown",
      "source": [
        "Identity Operators"
      ],
      "metadata": {
        "id": "jiIdGaz8_5eC"
      }
    },
    {
      "cell_type": "code",
      "source": [
        "print(v is k)\n",
        "print(v is not k)"
      ],
      "metadata": {
        "colab": {
          "base_uri": "https://localhost:8080/"
        },
        "id": "y_NRD5g8_7iy",
        "outputId": "ce156fc3-3f1d-4013-9dbf-2f034851c17a"
      },
      "execution_count": 16,
      "outputs": [
        {
          "output_type": "stream",
          "name": "stdout",
          "text": [
            "False\n",
            "True\n"
          ]
        }
      ]
    }
  ]
}