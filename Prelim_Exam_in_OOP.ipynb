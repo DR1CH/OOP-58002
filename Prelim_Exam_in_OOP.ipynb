{
  "nbformat": 4,
  "nbformat_minor": 0,
  "metadata": {
    "colab": {
      "name": "Prelim Exam in OOP",
      "provenance": [],
      "authorship_tag": "ABX9TyPCG8m5BDzFE6REHSVigI/8",
      "include_colab_link": true
    },
    "kernelspec": {
      "name": "python3",
      "display_name": "Python 3"
    },
    "language_info": {
      "name": "python"
    }
  },
  "cells": [
    {
      "cell_type": "markdown",
      "metadata": {
        "id": "view-in-github",
        "colab_type": "text"
      },
      "source": [
        "<a href=\"https://colab.research.google.com/github/DR1CH/OOP-58002/blob/main/Prelim_Exam_in_OOP.ipynb\" target=\"_parent\"><img src=\"https://colab.research.google.com/assets/colab-badge.svg\" alt=\"Open In Colab\"/></a>"
      ]
    },
    {
      "cell_type": "markdown",
      "source": [
        "Prelim Exam in OOP "
      ],
      "metadata": {
        "id": "AoZHfTTYS3a5"
      }
    },
    {
      "cell_type": "markdown",
      "source": [
        "*   Write a Python to display your full name, student number, age, and course\n",
        "*  Create a class named Student with attributes: Name, Student_No, Age, School, and Course\n",
        "*   Create an object name Myself and assign an instance for each attribute.\n",
        "*   Create a method Self () using an instantiation of a class.\n",
        "*   Insert your GitHub link \"Prelim Exam\" from your repository named \"OOP 58002\"\n",
        "\n"
      ],
      "metadata": {
        "id": "P3QG6pzbS-sg"
      }
    },
    {
      "cell_type": "code",
      "source": [
        "class Person:\n",
        "  def __init__(self,student,number,age,school,course):\n",
        "    self.student = student\n",
        "    self.number = number\n",
        "    self.age = age\n",
        "    self.school = school\n",
        "    self.course = course\n",
        "  \n",
        "  def myFunction(self):\n",
        "    print(\"Hi my name is\",self.student,)\n",
        "    print(\"years of age:\",self.age,)\n",
        "    print(\"my student number is\",self.number)\n",
        "    print(\"freshmen student in\", self.school)\n",
        "    print(\"and currently taking \", self.course)\n",
        "\n",
        "\n",
        "p1= Person(\"Lawrence Eldrich Mercado.\", 202117685, 19, \"Adamson University\", \"Bachelor of Science in Computer Engineering\")\n",
        "p1.myFunction()"
      ],
      "metadata": {
        "colab": {
          "base_uri": "https://localhost:8080/"
        },
        "id": "F6kt2uouTgTd",
        "outputId": "475d3b84-6dfd-4177-e4ba-da2c2e60886b"
      },
      "execution_count": 1,
      "outputs": [
        {
          "output_type": "stream",
          "name": "stdout",
          "text": [
            "Hi my name is Lawrence Eldrich Mercado.\n",
            "years of age: 19\n",
            "my student number is 202117685\n",
            "freshmen student in Adamson University\n",
            "and currently taking  Bachelor of Science in Computer Engineering\n"
          ]
        }
      ]
    }
  ]
}