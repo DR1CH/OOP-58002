{
  "nbformat": 4,
  "nbformat_minor": 0,
  "metadata": {
    "colab": {
      "name": "OOP PYTHON ",
      "provenance": [],
      "authorship_tag": "ABX9TyNna/PU0R9re2f4/Zy3SffH",
      "include_colab_link": true
    },
    "kernelspec": {
      "name": "python3",
      "display_name": "Python 3"
    },
    "language_info": {
      "name": "python"
    }
  },
  "cells": [
    {
      "cell_type": "markdown",
      "metadata": {
        "id": "view-in-github",
        "colab_type": "text"
      },
      "source": [
        "<a href=\"https://colab.research.google.com/github/DR1CH/OOP-58002/blob/main/OOP_PYTHON.ipynb\" target=\"_parent\"><img src=\"https://colab.research.google.com/assets/colab-badge.svg\" alt=\"Open In Colab\"/></a>"
      ]
    },
    {
      "cell_type": "markdown",
      "source": [
        "Create a Class"
      ],
      "metadata": {
        "id": "o9aCb7aZF4VR"
      }
    },
    {
      "cell_type": "code",
      "source": [
        "class Car:\n",
        "  pass"
      ],
      "metadata": {
        "id": "sL__A7clF-AZ"
      },
      "execution_count": 1,
      "outputs": []
    },
    {
      "cell_type": "markdown",
      "source": [
        "Create an Object"
      ],
      "metadata": {
        "id": "hd33uumPGHX1"
      }
    },
    {
      "cell_type": "code",
      "source": [
        "class Car:\n",
        " def __init__(self,name,color): #all classes have function called __init__:\n",
        "  self.name = name              #attribute names of class named Card\n",
        "  self.color = color\n",
        "\n",
        " def description(self):\n",
        "    return \"The\" + self.name +\"has a color\" + self.color\n",
        "\n",
        " def show(self):\n",
        "  print(\"The\"+\" \"+self.name+\" \"+\"has a color\"+\" \"+self.color)\n",
        "\n",
        "car1 = Car(\"Honda City\",\"White\")\n",
        "car1.show()"
      ],
      "metadata": {
        "colab": {
          "base_uri": "https://localhost:8080/"
        },
        "id": "C_nZt-UtGJQT",
        "outputId": "e65ec1d0-a712-4302-8f9d-9ea3915fe47a"
      },
      "execution_count": 2,
      "outputs": [
        {
          "output_type": "stream",
          "name": "stdout",
          "text": [
            "The Honda City has a color White\n"
          ]
        }
      ]
    },
    {
      "cell_type": "markdown",
      "source": [
        "Object Methods"
      ],
      "metadata": {
        "id": "KdyBCPvDGNlL"
      }
    },
    {
      "cell_type": "code",
      "source": [
        "class Person:\n",
        " def __init__(self,name,age):\n",
        "  self.name = name \n",
        "  self.age = age\n",
        " def myFunction(self):\n",
        "  print(\"Hello! My name is\",self.name)\n",
        "  print(\"I am\",self.age,\"Years old\")\n",
        "\n",
        "p1= Person(\"Eldrich\",19)\n",
        "p1.myFunction()"
      ],
      "metadata": {
        "colab": {
          "base_uri": "https://localhost:8080/"
        },
        "id": "V_KNQwd1GQLs",
        "outputId": "d125e12a-1cd8-4068-9c16-01961b11dec5"
      },
      "execution_count": 3,
      "outputs": [
        {
          "output_type": "stream",
          "name": "stdout",
          "text": [
            "Hello! My name is Eldrich\n",
            "I am 19 Years old\n"
          ]
        }
      ]
    },
    {
      "cell_type": "code",
      "source": [
        "class Car:\n",
        " def __init__(self,name,color): #all classes have function called __init__:\n",
        "  self.name = name              #attribute names of class named Card\n",
        "  self.color = color\n",
        "\n",
        " def description(self):\n",
        "    return \"The\" + self.name +\"has a color\" + self.color\n",
        "\n",
        " def show(self):\n",
        "  print(\"The\"+\" \"+self.name+\" \"+\"has a color\"+\" \"+self.color)\n",
        "\n",
        "car1 = Car(\"Honda City\",\"White\")\n",
        "car1.show()"
      ],
      "metadata": {
        "colab": {
          "base_uri": "https://localhost:8080/"
        },
        "id": "sk7x8_YLGljE",
        "outputId": "677a01fa-865e-4b1c-d744-5789e7585fab"
      },
      "execution_count": 4,
      "outputs": [
        {
          "output_type": "stream",
          "name": "stdout",
          "text": [
            "The Honda City has a color White\n"
          ]
        }
      ]
    },
    {
      "cell_type": "markdown",
      "source": [
        "Modify and Object Property"
      ],
      "metadata": {
        "id": "OQ5PB6DZGzEW"
      }
    },
    {
      "cell_type": "code",
      "source": [
        "car1.name = \"Mitsubishi\"\n",
        "print(car1.name)\n",
        "\n",
        "car1.color = \"Silver\"\n",
        "print(car1.color)"
      ],
      "metadata": {
        "colab": {
          "base_uri": "https://localhost:8080/"
        },
        "id": "sms5eN1hG0eM",
        "outputId": "9a1311dd-ee3d-40a5-9134-bc033ce625f0"
      },
      "execution_count": 5,
      "outputs": [
        {
          "output_type": "stream",
          "name": "stdout",
          "text": [
            "Mitsubishi\n",
            "Silver\n"
          ]
        }
      ]
    },
    {
      "cell_type": "code",
      "source": [
        "car1.show()"
      ],
      "metadata": {
        "id": "ubQva16oG-cU"
      },
      "execution_count": null,
      "outputs": []
    },
    {
      "cell_type": "markdown",
      "source": [
        "Delete an Object Property"
      ],
      "metadata": {
        "id": "QvasG45_HFyq"
      }
    },
    {
      "cell_type": "code",
      "source": [
        "del car1.color\n",
        "print(car1.color)"
      ],
      "metadata": {
        "colab": {
          "base_uri": "https://localhost:8080/",
          "height": 183
        },
        "id": "W_x3IpQ0HKMK",
        "outputId": "8cd8a1be-c2a9-4fda-ef0a-9400deb6a938"
      },
      "execution_count": 9,
      "outputs": [
        {
          "output_type": "error",
          "ename": "AttributeError",
          "evalue": "ignored",
          "traceback": [
            "\u001b[0;31m---------------------------------------------------------------------------\u001b[0m",
            "\u001b[0;31mAttributeError\u001b[0m                            Traceback (most recent call last)",
            "\u001b[0;32m<ipython-input-9-4849355a0500>\u001b[0m in \u001b[0;36m<module>\u001b[0;34m()\u001b[0m\n\u001b[0;32m----> 1\u001b[0;31m \u001b[0;32mdel\u001b[0m \u001b[0mcar1\u001b[0m\u001b[0;34m.\u001b[0m\u001b[0mcolor\u001b[0m\u001b[0;34m\u001b[0m\u001b[0;34m\u001b[0m\u001b[0m\n\u001b[0m\u001b[1;32m      2\u001b[0m \u001b[0mprint\u001b[0m\u001b[0;34m(\u001b[0m\u001b[0mcar1\u001b[0m\u001b[0;34m.\u001b[0m\u001b[0mcolor\u001b[0m\u001b[0;34m)\u001b[0m\u001b[0;34m\u001b[0m\u001b[0;34m\u001b[0m\u001b[0m\n",
            "\u001b[0;31mAttributeError\u001b[0m: color"
          ]
        }
      ]
    },
    {
      "cell_type": "code",
      "source": [
        "print(car1.name)\n",
        "print(car1.color)"
      ],
      "metadata": {
        "colab": {
          "base_uri": "https://localhost:8080/",
          "height": 200
        },
        "id": "EAqjNgsDIDbD",
        "outputId": "882d8246-44e1-464e-d699-fa26c3d840e8"
      },
      "execution_count": 10,
      "outputs": [
        {
          "output_type": "stream",
          "name": "stdout",
          "text": [
            "Mitsubishi\n"
          ]
        },
        {
          "output_type": "error",
          "ename": "AttributeError",
          "evalue": "ignored",
          "traceback": [
            "\u001b[0;31m---------------------------------------------------------------------------\u001b[0m",
            "\u001b[0;31mAttributeError\u001b[0m                            Traceback (most recent call last)",
            "\u001b[0;32m<ipython-input-10-b3300dc57d2d>\u001b[0m in \u001b[0;36m<module>\u001b[0;34m()\u001b[0m\n\u001b[1;32m      1\u001b[0m \u001b[0mprint\u001b[0m\u001b[0;34m(\u001b[0m\u001b[0mcar1\u001b[0m\u001b[0;34m.\u001b[0m\u001b[0mname\u001b[0m\u001b[0;34m)\u001b[0m\u001b[0;34m\u001b[0m\u001b[0;34m\u001b[0m\u001b[0m\n\u001b[0;32m----> 2\u001b[0;31m \u001b[0mprint\u001b[0m\u001b[0;34m(\u001b[0m\u001b[0mcar1\u001b[0m\u001b[0;34m.\u001b[0m\u001b[0mcolor\u001b[0m\u001b[0;34m)\u001b[0m\u001b[0;34m\u001b[0m\u001b[0;34m\u001b[0m\u001b[0m\n\u001b[0m",
            "\u001b[0;31mAttributeError\u001b[0m: 'Car' object has no attribute 'color'"
          ]
        }
      ]
    },
    {
      "cell_type": "markdown",
      "source": [
        "Application 1 - Write a Python program that computes for the Are and Perimeter of a Square, and create a class name Square with side as its attribute"
      ],
      "metadata": {
        "id": "c7_om8FiILB2"
      }
    },
    {
      "cell_type": "code",
      "source": [
        "#Area of a Square = s*s\n",
        "#Perimeter of a Square = 4*s = s+s+s+s\n",
        "\n",
        "class Square:\n",
        " def __init__(self,side):\n",
        "  self.side = side\n",
        "\n",
        " def Area(self):\n",
        "  return self.side*self.side\n",
        "\n",
        " def Perimeter(self):\n",
        "  return 4*(self.side)\n",
        "\n",
        " def display(self):\n",
        "  print(\"The area of a square is\",self.Area())\n",
        "  print(\"The perimeter of a square is\",self.Perimeter())\n",
        "\n",
        "sq1 = Square(2)\n",
        "sq1.display()"
      ],
      "metadata": {
        "id": "H8xMEIBOIO-O"
      },
      "execution_count": null,
      "outputs": []
    },
    {
      "cell_type": "markdown",
      "source": [
        "Application 2 - Write a Python program that displays your sudent no. and fullname(Surname, First Name MI) and create a class name OOP_58002"
      ],
      "metadata": {
        "id": "oJuzBlUMISvk"
      }
    },
    {
      "cell_type": "code",
      "source": [
        "class Person:\n",
        " def __init__(self,student,number):\n",
        "  self.student = student\n",
        "  self.number = number\n",
        "\n",
        " def myFunction(self):\n",
        "  print(\"I am\",self.student,\"and my student number is\", self.number)\n",
        "  print(\"Section - OOP_58002\")\n",
        "\n",
        "\n",
        "p1= Person(\"Mercado, Lawrence Eldrich DS.\", 202117685)\n",
        "p1.myFunction()"
      ],
      "metadata": {
        "colab": {
          "base_uri": "https://localhost:8080/"
        },
        "id": "cp_xBlVOIXG8",
        "outputId": "9c825cda-ccea-4d4a-d7f6-bd08af8a497b"
      },
      "execution_count": 11,
      "outputs": [
        {
          "output_type": "stream",
          "name": "stdout",
          "text": [
            "I am Mercado, Lawrence Eldrich DS. and my student number is 202117685\n",
            "Section - OOP_58002\n"
          ]
        }
      ]
    }
  ]
}